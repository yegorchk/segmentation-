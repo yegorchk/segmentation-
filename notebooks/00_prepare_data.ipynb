{
 "cells": [
  {
   "cell_type": "markdown",
   "id": "701f4e6e",
   "metadata": {},
   "source": [
    "импорты и пути"
   ]
  },
  {
   "cell_type": "code",
   "execution_count": 1,
   "id": "b629888b",
   "metadata": {},
   "outputs": [
    {
     "name": "stdout",
     "output_type": "stream",
     "text": [
      "ROOT → /Users/macbook/projects/road_seg\n",
      "Cityscapes exists: True\n",
      "Pothole JSON dir  : True\n"
     ]
    }
   ],
   "source": [
    "import base64, json, zlib, cv2, numpy as np, tqdm\n",
    "from pathlib import Path\n",
    "\n",
    "ROOT = Path.cwd().parent\n",
    "CITY_DIR      = ROOT / 'data' / 'cityscapes'\n",
    "POT_JSON_DIR  = ROOT / 'data' / 'potholes' / 'masks'\n",
    "POT_IMG_DIR   = ROOT / 'data' / 'potholes' / 'images'\n",
    "POT_MASK_DIR  = ROOT / 'data' / 'potholes' / 'masks_png'\n",
    "POT_MASK_DIR.mkdir(parents=True, exist_ok=True)\n",
    "\n",
    "CITY_MAP    = {7: 1, 8: 2}                       # Cityscapes → наши id\n",
    "POT_CLS_MAP = {\"road\": 1, \"crack\": 1, \"pothole\": 3}  # JSON → наши id\n",
    "\n",
    "print(\"ROOT →\", ROOT)\n",
    "print(\"Cityscapes exists:\", CITY_DIR.exists())\n",
    "print(\"Pothole JSON dir  :\", POT_JSON_DIR.exists())"
   ]
  },
  {
   "cell_type": "markdown",
   "id": "454f2723",
   "metadata": {},
   "source": [
    "Helper: decode Supervisely bitmap"
   ]
  },
  {
   "cell_type": "code",
   "execution_count": 2,
   "id": "0a8af5ff",
   "metadata": {},
   "outputs": [],
   "source": [
    "def _decode_bitmap(bmp_dict):\n",
    "    \"\"\"\n",
    "    Декодирует Supervisely-bitmap → 2-D бинарная маска + (ox, oy).\n",
    "\n",
    "    В JSON хранится base64(zlib(png)).\n",
    "    PNG бывает 1-канальный (градации серого) или 4-канальный (RGBA).\n",
    "    Всегда возвращаем ndarray uint8 формы (H, W) со значениями 0/1.\n",
    "    \"\"\"\n",
    "    import base64, zlib, cv2, numpy as np\n",
    "\n",
    "    comp = base64.b64decode(bmp_dict[\"data\"])\n",
    "    png_bytes = zlib.decompress(comp)\n",
    "    img = cv2.imdecode(np.frombuffer(png_bytes, np.uint8), cv2.IMREAD_UNCHANGED)\n",
    "    if img is None:\n",
    "        raise ValueError(\"Bitmap decode failed\")\n",
    "\n",
    "    # приводим к 2-D: если RGBA, берём альфа-канал\n",
    "    if img.ndim == 3:\n",
    "        mask = (img[:, :, -1] > 0).astype(np.uint8)\n",
    "    else:\n",
    "        mask = (img > 0).astype(np.uint8)\n",
    "\n",
    "    ox, oy = bmp_dict[\"origin\"]\n",
    "    return mask, (ox, oy)\n",
    "\n",
    "\n",
    "def _draw_polygon(poly_points, canvas, cls_id):\n",
    "    \"\"\"Закрашивает полигоны (список точек [[x,y],...]) на canvas указанным cls_id.\"\"\"\n",
    "    pts = np.round(np.array(poly_points, dtype=np.float32)).astype(np.int32)\n",
    "    cv2.fillPoly(canvas, [pts], int(cls_id))"
   ]
  },
  {
   "cell_type": "markdown",
   "id": "47d33f5a",
   "metadata": {},
   "source": [
    "конвертация JSON → PNG"
   ]
  },
  {
   "cell_type": "code",
   "execution_count": 3,
   "id": "480f6a36",
   "metadata": {},
   "outputs": [],
   "source": [
    "def convert_pothole_json_to_png():\n",
    "    json_files = list(POT_JSON_DIR.glob('*.json'))\n",
    "    if not json_files:\n",
    "        print(\"❗ JSON‑файлы не найдены, пропускаю конвертацию.\")\n",
    "        return\n",
    "\n",
    "    for js in tqdm.tqdm(json_files, desc='json→png'):\n",
    "        with open(js) as f:\n",
    "            ann = json.load(f)\n",
    "        H, W = ann[\"size\"][\"height\"], ann[\"size\"][\"width\"]\n",
    "        full = np.zeros((H, W), np.uint8)\n",
    "\n",
    "        for obj in ann[\"objects\"]:\n",
    "            cls_id = POT_CLS_MAP.get(obj.get(\"classTitle\", \"\"), 0)\n",
    "            if cls_id == 0:\n",
    "                continue\n",
    "\n",
    "            if \"bitmap\" in obj:  # быстрый путь\n",
    "                m, (ox, oy) = _decode_bitmap(obj[\"bitmap\"])\n",
    "                full[oy:oy+m.shape[0], ox:ox+m.shape[1]][m > 0] = cls_id\n",
    "\n",
    "            elif \"points\" in obj:  # polygon/point\n",
    "                _draw_polygon(obj[\"points\"][\"exterior\"], full, cls_id)\n",
    "\n",
    "        out_path = POT_MASK_DIR / (js.stem.split('.jpg')[0] + '.png')\n",
    "        cv2.imwrite(str(out_path), full)"
   ]
  },
  {
   "cell_type": "markdown",
   "id": "b5f0cafe",
   "metadata": {},
   "source": [
    "функции ремапа"
   ]
  },
  {
   "cell_type": "code",
   "execution_count": 4,
   "id": "7027cb35",
   "metadata": {},
   "outputs": [],
   "source": [
    "def remap_cityscapes():\n",
    "    masks = list(CITY_DIR.rglob('*_labelIds.png'))\n",
    "    if not masks:\n",
    "        print(\"❗ Cityscapes *_labelIds.png не найдены – проверьте распаковку.\")\n",
    "        return\n",
    "    for p in tqdm.tqdm(masks, desc='city‑remap'):\n",
    "        m = cv2.imread(str(p), cv2.IMREAD_UNCHANGED)\n",
    "        out = np.zeros_like(m, np.uint8)\n",
    "        for src, dst in CITY_MAP.items():\n",
    "            out[m == src] = dst\n",
    "        cv2.imwrite(str(p).replace('_labelIds', '_ourIds'), out)"
   ]
  },
  {
   "cell_type": "code",
   "execution_count": 5,
   "id": "5187acb4",
   "metadata": {},
   "outputs": [],
   "source": [
    "def remap_potholes():\n",
    "    for p in tqdm.tqdm(POT_MASK_DIR.glob('*.png'), desc='pothole‑remap'):\n",
    "        m = cv2.imread(str(p), cv2.IMREAD_UNCHANGED)\n",
    "        if m is None:\n",
    "            continue\n",
    "        m[m == 3] = 3\n",
    "        m[(m == 1) | (m == 2)] = 1\n",
    "        cv2.imwrite(str(p), m)"
   ]
  },
  {
   "cell_type": "markdown",
   "id": "46283ad1",
   "metadata": {},
   "source": [
    "Проверка"
   ]
  },
  {
   "cell_type": "code",
   "execution_count": 6,
   "id": "29dddf54",
   "metadata": {},
   "outputs": [
    {
     "name": "stderr",
     "output_type": "stream",
     "text": [
      "json→png: 100%|██████████| 2235/2235 [00:29<00:00, 76.61it/s]\n",
      "pothole‑remap: 2235it [00:13, 165.94it/s]\n",
      "city‑remap: 100%|██████████| 5000/5000 [01:17<00:00, 64.28it/s]\n"
     ]
    },
    {
     "name": "stdout",
     "output_type": "stream",
     "text": [
      "\n",
      "Done ✔ Stats:\n",
      "city imgs     : 25000\n",
      "city masks    : 5000\n",
      "pothole imgs  : 2235\n",
      "pothole masks : 2235\n"
     ]
    }
   ],
   "source": [
    "convert_pothole_json_to_png()\n",
    "remap_potholes()\n",
    "remap_cityscapes()\n",
    "\n",
    "stats = {\n",
    "    'city imgs'    : len(list((CITY_DIR).rglob('*.png'))),\n",
    "    'city masks'   : len(list((CITY_DIR).rglob('*_ourIds.png'))),\n",
    "    'pothole imgs' : len(list(POT_IMG_DIR.glob('*.jpg'))),\n",
    "    'pothole masks': len(list(POT_MASK_DIR.glob('*.png')))\n",
    "}\n",
    "print(\"\\nDone ✔ Stats:\")\n",
    "for k, v in stats.items():\n",
    "    print(f\"{k:14}: {v}\")"
   ]
  }
 ],
 "metadata": {
  "kernelspec": {
   "display_name": "roadseg2",
   "language": "python",
   "name": "python3"
  },
  "language_info": {
   "codemirror_mode": {
    "name": "ipython",
    "version": 3
   },
   "file_extension": ".py",
   "mimetype": "text/x-python",
   "name": "python",
   "nbconvert_exporter": "python",
   "pygments_lexer": "ipython3",
   "version": "3.11.13"
  }
 },
 "nbformat": 4,
 "nbformat_minor": 5
}
